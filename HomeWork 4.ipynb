{
 "cells": [
  {
   "cell_type": "markdown",
   "metadata": {},
   "source": [
    "## Binomial Distribution"
   ]
  },
  {
   "cell_type": "markdown",
   "metadata": {},
   "source": [
    "#### Queation's Explanation \n",
    "A company drills 9 wild-cat oil exploration wells, each with an estimated probability of success of 0.1. All nine wells fail.   \n",
    "What is the probability of that happening?   \n",
    "Let’s do 20,000 trials of the model, and count the number that generate zero positive results."
   ]
  },
  {
   "cell_type": "code",
   "execution_count": 5,
   "metadata": {},
   "outputs": [
    {
     "name": "stdout",
     "output_type": "stream",
     "text": [
      "0.39075\n"
     ]
    }
   ],
   "source": [
    "import numpy as np\n",
    "result = sum(np.random.binomial(9, 0.1, 20000) == 0)/20000\n",
    "print(result)"
   ]
  },
  {
   "cell_type": "markdown",
   "metadata": {},
   "source": [
    "## Poisson Distribution"
   ]
  },
  {
   "cell_type": "markdown",
   "metadata": {},
   "source": [
    "#### The average number of major storms in your city is 2 per year. What is the probability that exactly 3 storms will hit your city next year?"
   ]
  },
  {
   "cell_type": "markdown",
   "metadata": {},
   "source": [
    "#### Queation's Explanation"
   ]
  },
  {
   "cell_type": "markdown",
   "metadata": {},
   "source": [
    "lamb = 2 (average number of storms per year, historically)   \n",
    "k = 3 (the number of storms we think might hit next year)   \n",
    "e = 2.71828 (e is Euler’s number, a constant)   \n",
    "P(k;lamb ) = (e-lamb) (lamb*k) / k!   \n",
    "        = (2.71828 – 2) (23) / 3!   \n",
    "        = (0.13534) (8) / 6   \n",
    "        = 0.180   "
   ]
  },
  {
   "cell_type": "code",
   "execution_count": 9,
   "metadata": {},
   "outputs": [
    {
     "name": "stdout",
     "output_type": "stream",
     "text": [
      "The average number of storms in the city: 0.1804470443154836\n"
     ]
    }
   ],
   "source": [
    "import math\n",
    "\n",
    "lamb = 2\n",
    "k = 3\n",
    "\n",
    "def factorial(i):\n",
    "  if i==1:       \n",
    "      return 1\n",
    "  else: \n",
    "      return i * factorial(i-1)\n",
    "\n",
    "def poisson(lamb,k):\n",
    "  return math.exp(-lamb)*(lamb**k)/factorial(k)\n",
    "\n",
    "print('The average number of storms in the city:' , poisson(lamb_da,k))"
   ]
  },
  {
   "cell_type": "code",
   "execution_count": null,
   "metadata": {},
   "outputs": [],
   "source": []
  }
 ],
 "metadata": {
  "kernelspec": {
   "display_name": "Python 3",
   "language": "python",
   "name": "python3"
  },
  "language_info": {
   "codemirror_mode": {
    "name": "ipython",
    "version": 3
   },
   "file_extension": ".py",
   "mimetype": "text/x-python",
   "name": "python",
   "nbconvert_exporter": "python",
   "pygments_lexer": "ipython3",
   "version": "3.7.6"
  }
 },
 "nbformat": 4,
 "nbformat_minor": 4
}
